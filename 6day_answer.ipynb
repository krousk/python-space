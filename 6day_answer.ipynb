{
 "cells": [
  {
   "cell_type": "markdown",
   "metadata": {},
   "source": [
    "# 미국 대통령 평균 신장은 얼마일까?"
   ]
  },
  {
   "cell_type": "markdown",
   "metadata": {},
   "source": [
    "## 0. NumPy import"
   ]
  },
  {
   "cell_type": "code",
   "execution_count": 1,
   "metadata": {},
   "outputs": [],
   "source": [
    "import numpy as np"
   ]
  },
  {
   "cell_type": "markdown",
   "metadata": {},
   "source": [
    "## 1. 파일 내용 저장 파이썬 리스트 변수 선언"
   ]
  },
  {
   "cell_type": "code",
   "execution_count": 2,
   "metadata": {},
   "outputs": [],
   "source": [
    "order_list = []\n",
    "name_list = []\n",
    "height_list = []"
   ]
  },
  {
   "cell_type": "markdown",
   "metadata": {},
   "source": [
    "## 2. 파일에 데이터 읽기( president_heights.csv )"
   ]
  },
  {
   "cell_type": "code",
   "execution_count": 3,
   "metadata": {},
   "outputs": [],
   "source": [
    "with open( 'president_heights.csv', 'r' ) as f:\n",
    "    line = f.readline() # 제목줄 제거\n",
    "    line = f.readline()\n",
    "    while line:\n",
    "        data = line.split( ',' )\n",
    "        order_list.append( data[ 0 ] )\n",
    "        name_list.append( data[ 1 ] )\n",
    "        height_list.append( int( data[ 2 ][ : 3 ] ) ) # 키 마지막 줄바꿈( \\n ) 제거\n",
    "        line = f.readline()"
   ]
  },
  {
   "cell_type": "markdown",
   "metadata": {},
   "source": [
    "## 3. 읽은 데이터 확인( 처음 5개, 마지막 5개 )"
   ]
  },
  {
   "cell_type": "code",
   "execution_count": 4,
   "metadata": {},
   "outputs": [
    {
     "data": {
      "text/plain": [
       "(['1', '2', '3', '4', '5'], ['40', '41', '42', '43', '44'])"
      ]
     },
     "execution_count": 4,
     "metadata": {},
     "output_type": "execute_result"
    }
   ],
   "source": [
    "order_list[ :5 ], order_list[ len( order_list ) - 5 : ]"
   ]
  },
  {
   "cell_type": "code",
   "execution_count": 5,
   "metadata": {},
   "outputs": [
    {
     "data": {
      "text/plain": [
       "(['George Washington',\n",
       "  'John Adams',\n",
       "  'Thomas Jefferson',\n",
       "  'James Madison',\n",
       "  'James Monroe'],\n",
       " ['Ronald Reagan',\n",
       "  'George H. W. Bush',\n",
       "  'Bill Clinton',\n",
       "  'George W. Bush',\n",
       "  'Barack Obama'])"
      ]
     },
     "execution_count": 5,
     "metadata": {},
     "output_type": "execute_result"
    }
   ],
   "source": [
    "name_list[ :5 ], name_list[ len( name_list ) - 5 : ]"
   ]
  },
  {
   "cell_type": "code",
   "execution_count": 6,
   "metadata": {},
   "outputs": [
    {
     "data": {
      "text/plain": [
       "([189, 170, 189, 163, 183], [185, 188, 188, 182, 185])"
      ]
     },
     "execution_count": 6,
     "metadata": {},
     "output_type": "execute_result"
    }
   ],
   "source": [
    "height_list[ :5 ], height_list[ len( height_list ) - 5: ]"
   ]
  },
  {
   "cell_type": "markdown",
   "metadata": {},
   "source": [
    "## 4. NumPy 배열 생성"
   ]
  },
  {
   "cell_type": "markdown",
   "metadata": {},
   "source": [
    "### 4.1 전체 대통령 순번"
   ]
  },
  {
   "cell_type": "code",
   "execution_count": 7,
   "metadata": {},
   "outputs": [
    {
     "data": {
      "text/plain": [
       "array(['1', '2', '3', '4', '5', '6', '7', '8', '9', '10', '11', '12',\n",
       "       '13', '14', '15', '16', '17', '18', '19', '20', '21', '23', '25',\n",
       "       '26', '27', '28', '29', '30', '31', '32', '33', '34', '35', '36',\n",
       "       '37', '38', '39', '40', '41', '42', '43', '44'], dtype='<U2')"
      ]
     },
     "execution_count": 7,
     "metadata": {},
     "output_type": "execute_result"
    }
   ],
   "source": [
    "order_array = np.array( order_list )\n",
    "order_array"
   ]
  },
  {
   "cell_type": "code",
   "execution_count": 8,
   "metadata": {},
   "outputs": [
    {
     "data": {
      "text/plain": [
       "(1, (42,), 42, dtype('<U2'))"
      ]
     },
     "execution_count": 8,
     "metadata": {},
     "output_type": "execute_result"
    }
   ],
   "source": [
    "order_array.ndim, order_array.shape, order_array.size, order_array.dtype"
   ]
  },
  {
   "cell_type": "markdown",
   "metadata": {},
   "source": [
    "### 4.2 전체 대통령 이름"
   ]
  },
  {
   "cell_type": "code",
   "execution_count": 9,
   "metadata": {},
   "outputs": [
    {
     "data": {
      "text/plain": [
       "array(['George Washington', 'John Adams', 'Thomas Jefferson',\n",
       "       'James Madison', 'James Monroe', 'John Quincy Adams',\n",
       "       'Andrew Jackson', 'Martin Van Buren', 'William Henry Harrison',\n",
       "       'John Tyler', 'James K. Polk', 'Zachary Taylor',\n",
       "       'Millard Fillmore', 'Franklin Pierce', 'James Buchanan',\n",
       "       'Abraham Lincoln', 'Andrew Johnson', 'Ulysses S. Grant',\n",
       "       'Rutherford B. Hayes', 'James A. Garfield', 'Chester A. Arthur',\n",
       "       'Benjamin Harrison', 'William McKinley', 'Theodore Roosevelt',\n",
       "       'William Howard Taft', 'Woodrow Wilson', 'Warren G. Harding',\n",
       "       'Calvin Coolidge', 'Herbert Hoover', 'Franklin D. Roosevelt',\n",
       "       'Harry S. Truman', 'Dwight D. Eisenhower', 'John F. Kennedy',\n",
       "       'Lyndon B. Johnson', 'Richard Nixon', 'Gerald Ford',\n",
       "       'Jimmy Carter', 'Ronald Reagan', 'George H. W. Bush',\n",
       "       'Bill Clinton', 'George W. Bush', 'Barack Obama'], dtype='<U22')"
      ]
     },
     "execution_count": 9,
     "metadata": {},
     "output_type": "execute_result"
    }
   ],
   "source": [
    "name_array = np.array( name_list )\n",
    "name_array"
   ]
  },
  {
   "cell_type": "code",
   "execution_count": 10,
   "metadata": {},
   "outputs": [
    {
     "data": {
      "text/plain": [
       "(1, (42,), 42, dtype('<U22'))"
      ]
     },
     "execution_count": 10,
     "metadata": {},
     "output_type": "execute_result"
    }
   ],
   "source": [
    "name_array.ndim, name_array.shape, name_array.size, name_array.dtype"
   ]
  },
  {
   "cell_type": "markdown",
   "metadata": {},
   "source": [
    "### 4.3 전체 대통령 신장"
   ]
  },
  {
   "cell_type": "code",
   "execution_count": 11,
   "metadata": {},
   "outputs": [
    {
     "data": {
      "text/plain": [
       "array([189, 170, 189, 163, 183, 171, 185, 168, 173, 183, 173, 173, 175,\n",
       "       178, 183, 193, 178, 173, 174, 183, 183, 168, 170, 178, 182, 180,\n",
       "       183, 178, 182, 188, 175, 179, 183, 193, 182, 183, 177, 185, 188,\n",
       "       188, 182, 185])"
      ]
     },
     "execution_count": 11,
     "metadata": {},
     "output_type": "execute_result"
    }
   ],
   "source": [
    "height_array = np.array( height_list )\n",
    "height_array"
   ]
  },
  {
   "cell_type": "code",
   "execution_count": 12,
   "metadata": {},
   "outputs": [
    {
     "data": {
      "text/plain": [
       "(1, (42,), 42, dtype('int32'))"
      ]
     },
     "execution_count": 12,
     "metadata": {},
     "output_type": "execute_result"
    }
   ],
   "source": [
    "height_array.ndim, height_array.shape, height_array.size, height_array.dtype"
   ]
  },
  {
   "cell_type": "markdown",
   "metadata": {},
   "source": [
    "## 5. 데이터에 대한 통계 / 집계 출력"
   ]
  },
  {
   "cell_type": "code",
   "execution_count": 13,
   "metadata": {},
   "outputs": [
    {
     "name": "stdout",
     "output_type": "stream",
     "text": [
      "평균 신장             : 179.74\n",
      "신장에 대한 표준편차  :   6.93\n",
      "최소 신장 대통령 정보 : 163(  4 James Madison         )\n",
      "최고 신장 대통령 정보 : 193( 16 Abraham Lincoln       )\n"
     ]
    }
   ],
   "source": [
    "print( '평균 신장             : {:6.2f}'.format( height_array.mean() ) ) # 평균 신장\n",
    "print( '신장에 대한 표준편차  : {:6.2f}'.format( height_array.std() ) ) # 신장에 대한 표준 편차\n",
    "print( '최소 신장 대통령 정보 : {:3d}( {:>2s} {:<22s})'.format( height_array.min(), \n",
    "                                                                order_array[ height_array.argmin() ],\n",
    "                                                                name_array[ height_array.argmin() ] ) ) # 최소 신장 대통령 정보\n",
    "print( '최고 신장 대통령 정보 : {:3d}( {:>2s} {:<22s})'.format( height_array.max(), \n",
    "                                                                order_array[ height_array.argmax() ],\n",
    "                                                                name_array[ height_array.argmax() ] ) ) # 최고 신장 대통령 정보"
   ]
  },
  {
   "cell_type": "code",
   "execution_count": 14,
   "metadata": {},
   "outputs": [
    {
     "name": "stdout",
     "output_type": "stream",
     "text": [
      "신장에 대한 1사분위수 : 174.25\n",
      "신장에 대한 중앙값    : 182.00\n",
      "신장에 대한 3사분위수 : 183.00\n"
     ]
    }
   ],
   "source": [
    "print( \"신장에 대한 1사분위수 : {:6.2f}\".format( np.percentile( height_array, 25 ) ) )\n",
    "print( \"신장에 대한 중앙값    : {:6.2f}\".format( np.median( height_array ) ) )\n",
    "print( \"신장에 대한 3사분위수 : {:6.2f}\".format( np.percentile( height_array, 75 ) ) )"
   ]
  },
  {
   "cell_type": "code",
   "execution_count": null,
   "metadata": {},
   "outputs": [],
   "source": []
  },
  {
   "cell_type": "code",
   "execution_count": null,
   "metadata": {},
   "outputs": [],
   "source": []
  },
  {
   "cell_type": "code",
   "execution_count": null,
   "metadata": {},
   "outputs": [],
   "source": []
  }
 ],
 "metadata": {
  "kernelspec": {
   "display_name": "Python 3",
   "language": "python",
   "name": "python3"
  },
  "language_info": {
   "codemirror_mode": {
    "name": "ipython",
    "version": 3
   },
   "file_extension": ".py",
   "mimetype": "text/x-python",
   "name": "python",
   "nbconvert_exporter": "python",
   "pygments_lexer": "ipython3",
   "version": "3.7.6"
  }
 },
 "nbformat": 4,
 "nbformat_minor": 4
}
